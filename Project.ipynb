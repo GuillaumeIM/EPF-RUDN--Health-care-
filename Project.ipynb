{
 "cells": [
  {
   "cell_type": "code",
   "execution_count": 22,
   "metadata": {},
   "outputs": [],
   "source": [
    "def HospitalDoctor():\n",
    "    import arcpy   \n",
    "    #creation of a list with the user's choices\n",
    "    Choice=[]\n",
    "    Choice.append(str(input(\"Do you want to consider the doctors in this analysis? (Yes, No) : \")))#user choice \n",
    "    arcpy.env.workspace = \"Data Source\" \n",
    "    #Verification of the existence of data   \n",
    "    arcpy.Exists(arcpy.env.workspace) \n",
    "    #overwrite the output dataset\n",
    "    arcpy.env.overwriteOutput = True\n",
    "    #removes layers if they already exist\n",
    "    intermediate_layers = [\"buffer1\",\"buffer2\",\"PopMD\",\"PopMH\",\"PopNH\",\"regions-20180101 selection.shp\",\"PopNHFinal.shp\"]\n",
    "    for intermediate_layer in intermediate_layers:\n",
    "        if arcpy.Exists(intermediate_layer):\n",
    "            arcpy.Delete_management(intermediate_layer)\n",
    "    #Buffer for hosiptals and doctors\n",
    "    \n",
    "    if Choice[0]!=\"Yes\":\n",
    "        #user's choice list\n",
    "        MyList=[]\n",
    "        MyList.append(str(input(\"Enter the buffer size for the hospitals (E.g. 20 Kilometers) : \")))\n",
    "        MyList.append(float(input(\"Enter the coefficient relating to the minimum distance from a hospital (E.g. 3 ): \")))\n",
    "        MyList.append(float(input(\"Enter the population density coefficient  (E.g. 6000 ): \")))\n",
    "        MyList.append(str(input(\"Enter the population density category in the following list  (Ind, Ind_0_3,Ind_4_5,Ind_6_10,Ind_11_17,Ind_18_24,Ind_25_39,Ind_40_54,Ind_55_64,Ind_65_79,Ind_80p): \")))\n",
    "        MyList.append(str(input(\"Enter the region you wish to select in the following list (Whole country,Corse,Île-de-France,Hauts-de-France,Nouvelle-Aquitaine,Normandie,Pays de la Loire,Centre-Val de Loire,Grand Est,PACA,Bretagne,Bourgogne-Franche-Comté,Occitanie,Auvergne-Rhône-Alpes): \")))\n",
    "        \n",
    "        print (\"The program is running...\")\n",
    "        #calculation with the buffer, erase, near, addfield and calculatefield tools for the hospital\n",
    "        arcpy.Buffer_analysis(\"Hospital/Hospital.shp\", \"buffer1\",MyList[0])\n",
    "        arcpy.Erase_analysis(\"Population density/Filosofi2015_carreaux_1000m_metropole.shp\", \"buffer1.shp\", \"PopNH\")\n",
    "        arcpy.Near_analysis(\"PopNH.shp\", \"Hospital/Hospital.shp\")\n",
    "        arcpy.AddField_management(\"PopNH.shp\",\"Display\",\"LONG\")\n",
    "        Expression=str(MyList[1])+\"*!NEAR_DIST!+\"+str(MyList[2])+\"*!\"+str(MyList[3])+\"!\"\n",
    "        arcpy.CalculateField_management(\"PopNH.shp\",\"Display\",Expression,\"PYTHON_9.3\")\n",
    "        #selection of the studied area \n",
    "        if MyList[4] != \"Whole country\":\n",
    "            arcpy.MakeFeatureLayer_management(\"Region of France/regions-20180101.shp\",\"Selecte\")   \n",
    "            qry=\"nom =\"+\"'\"+str(MyList[4])+\"'\"\n",
    "            arcpy.SelectLayerByAttribute_management(\"Selecte\",\"NEW_SELECTION\",qry)\n",
    "            arcpy.CopyFeatures_management(\"Selecte\", \"regions-20180101 selection\")\n",
    "            arcpy.MakeFeatureLayer_management(\"PopNH.shp\",\"Selecte2\")\n",
    "            arcpy.MakeFeatureLayer_management(\"regions-20180101 selection.shp\",\"Selecte3\")\n",
    "            arcpy.SelectLayerByLocation_management (\"Selecte2\",\"INTERSECT\",\"Selecte3\")\n",
    "            arcpy.CopyFeatures_management(\"Selecte2\", \"PopNHFinale.shp\")\n",
    "        else  :\n",
    "            arcpy.CopyFeatures_management(\"PopNH.shp\",\"PopNHFinale.shp\")       \n",
    "        print (\"The program has finished running, open Arcgis Pro to see the results (layer PopNHFinale.shp)\")\n",
    "        \n",
    "    else :\n",
    "        #user's choice list\n",
    "        MyList=[]\n",
    "        MyList.append(str(input(\"Enter the buffer size for the hospitals (E.g. 20 Kilometers) : \")))\n",
    "        MyList.append(str(input(\"Enter the buffer size for the doctors (E.g. 3 Kilometers) : \")))\n",
    "        MyList.append(float(input(\"Enter the coefficient relating to the minimum distance from a hospital (E.g. 3 ): \")))\n",
    "        MyList.append(float(input(\"Enter the coefficient relating to the minimum distance from a doctor (E.g. 0.5 ): \")))\n",
    "        MyList.append(float(input(\"Enter the population density coefficient  (E.g. 6000 ): \")))\n",
    "        MyList.append(str(input(\"Enter the population density category in the following list  (Ind, Ind_0_3,Ind_4_5,Ind_6_10,Ind_11_17,Ind_18_24,Ind_25_39,Ind_40_54,Ind_55_64,Ind_65_79,Ind_80p): \")))\n",
    "        MyList.append(str(input(\"Enter the region you wish to select in the following list (Whole country,Corse,Île-de-France,Hauts-de-France,Nouvelle-Aquitaine,Normandie,Pays de la Loire,Centre-Val de Loire,Grand Est,PACA,Bretagne,Bourgogne-Franche-Comté,Occitanie,Auvergne-Rhône-Alpes): \")))\n",
    "        \n",
    "        print (\"The program is running...\")\n",
    "        #calculation with the buffer, erase, near, addfield, calculatefield and deletefield tools for the hospital and doctor\n",
    "        arcpy.Buffer_analysis(\"Hospital/Hospital.shp\", \"buffer1\",MyList[0])\n",
    "        arcpy.Buffer_analysis(\"Doctor/Doctor.shp\", \"buffer2\",MyList[1])\n",
    "        arcpy.Erase_analysis(\"Population density/Filosofi2015_carreaux_1000m_metropole.shp\", \"buffer1.shp\", \"PopMD\")\n",
    "        arcpy.Erase_analysis(\"PopMD.shp\", \"buffer2.shp\", \"PopMH\")\n",
    "        arcpy.Near_analysis(\"PopMH.shp\", \"Hospital/Hospital.shp\")\n",
    "        arcpy.Near_analysis(\"PopMH.shp\", \"Hospital/Hospital.shp\") \n",
    "        arcpy.FeatureClassToFeatureClass_conversion(\"PopMH.shp\", \"Data Source\", \"PopNH.shp\")\n",
    "        arcpy.AddField_management(\"PopNH.shp\",\"NEAR_FIDH\",\"LONG\")\n",
    "        arcpy.CalculateField_management(\"PopNH.shp\",\"NEAR_FIDH\",\"!NEAR_FID!\",\"PYTHON_9.3\")\n",
    "        arcpy.DeleteField_management(\"PopNH.shp\",\"NEAR_FID\")\n",
    "        arcpy.AddField_management(\"PopNH.shp\",\"NEAR_DISTH\",\"LONG\")\n",
    "        arcpy.CalculateField_management(\"PopNH.shp\",\"NEAR_DISTH\",\"!NEAR_DIST!\",\"PYTHON_9.3\")\n",
    "        arcpy.DeleteField_management(\"PopNH.shp\",\"NEAR_DIST\") \n",
    "        arcpy.Near_analysis(\"PopNH.shp\", \"Doctor/Doctor.shp\")\n",
    "        arcpy.AddField_management(\"PopNH.shp\",\"Display\",\"LONG\")\n",
    "        Expression=str(MyList[2])+\"*!NEAR_DISTH!+\"+str(MyList[3])+\"*!NEAR_DIST!+\"+str(MyList[4])+\"*!\"+str(MyList[5])+\"!\" \n",
    "        arcpy.CalculateField_management(\"PopNH.shp\",\"Display\",Expression,\"PYTHON_9.3\")\n",
    "         #selection of the studied area \n",
    "        if MyList[6] != \"Whole country\":\n",
    "            arcpy.MakeFeatureLayer_management(\"Region of France/regions-20180101.shp\",\"Selecte\")   \n",
    "            qry=\"nom =\"+\"'\"+str(MyList[6])+\"'\"\n",
    "            arcpy.SelectLayerByAttribute_management(\"Selecte\",\"NEW_SELECTION\",qry)\n",
    "            arcpy.CopyFeatures_management(\"Selecte\", \"regions-20180101 selection\")\n",
    "            arcpy.MakeFeatureLayer_management(\"PopNH.shp\",\"Selecte2\")\n",
    "            arcpy.MakeFeatureLayer_management(\"regions-20180101 selection.shp\",\"Selecte3\")\n",
    "            arcpy.SelectLayerByLocation_management (\"Selecte2\",\"INTERSECT\",\"Selecte3\")\n",
    "            arcpy.CopyFeatures_management(\"Selecte2\", \"PopNHFinale.shp\")\n",
    "        else  :\n",
    "            arcpy.CopyFeatures_management(\"PopNH.shp\",\"PopNHFinale.shp\")       \n",
    "        print (\"The program has finished running, open Arcgis Pro to see the results (layer PopNHFinale.shp)\")\n",
    "    "
   ]
  },
  {
   "cell_type": "code",
   "execution_count": 24,
   "metadata": {
    "scrolled": true
   },
   "outputs": [
    {
     "name": "stdout",
     "output_type": "stream",
     "text": [
      "Do you want to consider the doctors in this analysis? (Yes, No) : No\n",
      "Enter the buffer size for the hospitals (E.g. 20 Kilometers) : 10 Kilometers\n",
      "Enter the coefficient relating to the minimum distance from a hospital (E.g. 3 ): 3\n",
      "Enter the population density coefficient  (E.g. 6000 ): 500\n",
      "Enter the population density category in the following list  (Ind, Ind_0_3,Ind_4_5,Ind_6_10,Ind_11_17,Ind_18_24,Ind_25_39,Ind_40_54,Ind_55_64,Ind_65_79,Ind_80p): Ind_25_39\n",
      "Enter the region you wish to select in the following list (Whole country,Corse,Île-de-France,Hauts-de-France,Nouvelle-Aquitaine,Normandie,Pays de la Loire,Centre-Val de Loire,Grand Est,PACA,Bretagne,Bourgogne-Franche-Comté,Occitanie,Auvergne-Rhône-Alpes): PACA\n",
      "The program is running...\n",
      "The program has finished running, open Arcgis Pro to see the results (layer PopNHFinale.shp)\n"
     ]
    }
   ],
   "source": [
    "HospitalDoctor()"
   ]
  },
  {
   "cell_type": "code",
   "execution_count": null,
   "metadata": {},
   "outputs": [],
   "source": []
  }
 ],
 "metadata": {
  "kernelspec": {
   "display_name": "Python 3",
   "language": "python",
   "name": "python3"
  },
  "language_info": {
   "codemirror_mode": {
    "name": "ipython",
    "version": 3
   },
   "file_extension": ".py",
   "mimetype": "text/x-python",
   "name": "python",
   "nbconvert_exporter": "python",
   "pygments_lexer": "ipython3",
   "version": "3.6.9"
  }
 },
 "nbformat": 4,
 "nbformat_minor": 2
}
